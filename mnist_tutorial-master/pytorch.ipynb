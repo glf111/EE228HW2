{
 "cells": [
  {
   "cell_type": "markdown",
   "metadata": {},
   "source": [
    "# Pytorch Tutorial"
   ]
  },
  {
   "cell_type": "markdown",
   "metadata": {},
   "source": [
    "Pytorch is a popular deep learning framework and it's easy to get started."
   ]
  },
  {
   "cell_type": "code",
   "execution_count": 2,
   "metadata": {},
   "outputs": [],
   "source": [
    "import torch\n",
    "import torch.nn as nn\n",
    "import torch.utils.data as data\n",
    "import torch.optim as optim\n",
    "import torchvision\n",
    "import torchvision.transforms as transforms\n",
    "from tqdm import tqdm\n",
    "import time\n",
    "\n",
    "BATCH_SIZE = 128\n",
    "NUM_EPOCHS = 10"
   ]
  },
  {
   "cell_type": "markdown",
   "metadata": {},
   "source": [
    "First, we read the mnist data, preprocess them and encapsulate them into dataloader form."
   ]
  },
  {
   "cell_type": "code",
   "execution_count": 3,
   "metadata": {},
   "outputs": [],
   "source": [
    "# preprocessing\n",
    "normalize = transforms.Normalize(mean=[.5], std=[.5])\n",
    "transform = transforms.Compose([transforms.ToTensor(), normalize])\n",
    "\n",
    "# download and load the data\n",
    "train_dataset = torchvision.datasets.MNIST(root='./mnist/', train=True, transform=transform, download=True)\n",
    "test_dataset = torchvision.datasets.MNIST(root='./mnist/', train=False, transform=transform, download=False)\n",
    "\n",
    "# encapsulate them into dataloader form\n",
    "train_loader = data.DataLoader(train_dataset, batch_size=BATCH_SIZE, shuffle=True, drop_last=True)\n",
    "test_loader = data.DataLoader(test_dataset, batch_size=BATCH_SIZE, shuffle=False, drop_last=True)"
   ]
  },
  {
   "cell_type": "markdown",
   "metadata": {},
   "source": [
    "Then, we define the model, object function and optimizer that we use to classify."
   ]
  },
  {
   "cell_type": "code",
   "execution_count": 6,
   "metadata": {},
   "outputs": [
    {
     "name": "stdout",
     "output_type": "stream",
     "text": [
      "SimpleNet(\n",
      "  (fc1): Linear(in_features=784, out_features=500, bias=True)\n",
      "  (fc2): Linear(in_features=500, out_features=256, bias=True)\n",
      "  (fc3): Linear(in_features=256, out_features=128, bias=True)\n",
      "  (fc4): Linear(in_features=128, out_features=10, bias=True)\n",
      ")\n"
     ]
    }
   ],
   "source": [
    "import torch.nn.functional as F\n",
    "class SimpleNet(nn.Module):\n",
    "# TODO:define model\n",
    "\n",
    "    def __init__(self):\n",
    "        super(SimpleNet, self).__init__()\n",
    "        self.fc1 = nn.Linear(28*28, 500)\n",
    "        # 第一个线性层输入维度：28*28-图片长*宽；输出维度500-第一层神经元个数\n",
    "        self.fc2 = nn.Linear(500, 256)\n",
    "        self.fc3 = nn.Linear(256, 128)\n",
    "        self.fc4 = nn.Linear(128, 10)\n",
    "        # 预测层输出为10个神经元，代表10个数字\n",
    "    def forward(self, x):\n",
    "        x = x.view(-1, 28*28) #把torch tensor先展开成一行，再按照指定的size进行resize\n",
    "        #此处就是每一列28*28（一个图片）；-1表示的是行数自动算出，行数也就是图片数目\n",
    "        x = F.relu(self.fc1(x))\n",
    "        # 激活\n",
    "        x = F.relu(self.fc2(x))\n",
    "        # 激活\n",
    "        x = F.relu(self.fc3(x))\n",
    "        x = self.fc4(x)\n",
    "        return x\n",
    "\n",
    "\n",
    "# 实例化    \n",
    "model = SimpleNet()\n",
    "\n",
    "# TODO:define loss function and optimiter\n",
    "criterion = torch.nn.CrossEntropyLoss()\n",
    "optimizer = torch.optim.Adam(model.parameters())\n",
    "print(model)"
   ]
  },
  {
   "cell_type": "markdown",
   "metadata": {},
   "source": [
    "Next, we can start to train and evaluate!"
   ]
  },
  {
   "cell_type": "code",
   "execution_count": 7,
   "metadata": {
    "scrolled": true
   },
   "outputs": [
    {
     "name": "stderr",
     "output_type": "stream",
     "text": [
      "100%|████████████████████████████████████████████████████████████████████████████████| 468/468 [00:25<00:00, 18.38it/s]\n",
      "  0%|                                                                                           | 0/78 [00:00<?, ?it/s]"
     ]
    },
    {
     "name": "stdout",
     "output_type": "stream",
     "text": [
      "epoch_number: 0 ------------loss: 0.19567947985589446\n"
     ]
    },
    {
     "name": "stderr",
     "output_type": "stream",
     "text": [
      "100%|██████████████████████████████████████████████████████████████████████████████████| 78/78 [00:03<00:00, 24.95it/s]\n",
      "  0%|▎                                                                                 | 2/468 [00:00<00:27, 16.71it/s]"
     ]
    },
    {
     "name": "stdout",
     "output_type": "stream",
     "text": [
      "epoch_number: 0 ------------test accuracy: 0.9507211538461539\n"
     ]
    },
    {
     "name": "stderr",
     "output_type": "stream",
     "text": [
      "100%|████████████████████████████████████████████████████████████████████████████████| 468/468 [00:29<00:00, 15.95it/s]\n",
      "  0%|                                                                                           | 0/78 [00:00<?, ?it/s]"
     ]
    },
    {
     "name": "stdout",
     "output_type": "stream",
     "text": [
      "epoch_number: 1 ------------loss: 0.11619742233061624\n"
     ]
    },
    {
     "name": "stderr",
     "output_type": "stream",
     "text": [
      "100%|██████████████████████████████████████████████████████████████████████████████████| 78/78 [00:02<00:00, 28.12it/s]\n",
      "  0%|▏                                                                                 | 1/468 [00:00<00:53,  8.72it/s]"
     ]
    },
    {
     "name": "stdout",
     "output_type": "stream",
     "text": [
      "epoch_number: 1 ------------test accuracy: 0.9614383012820513\n"
     ]
    },
    {
     "name": "stderr",
     "output_type": "stream",
     "text": [
      "100%|████████████████████████████████████████████████████████████████████████████████| 468/468 [00:31<00:00, 14.84it/s]\n",
      "  0%|                                                                                           | 0/78 [00:00<?, ?it/s]"
     ]
    },
    {
     "name": "stdout",
     "output_type": "stream",
     "text": [
      "epoch_number: 2 ------------loss: 0.09508599777936234\n"
     ]
    },
    {
     "name": "stderr",
     "output_type": "stream",
     "text": [
      "100%|██████████████████████████████████████████████████████████████████████████████████| 78/78 [00:02<00:00, 26.83it/s]\n",
      "  0%|▎                                                                                 | 2/468 [00:00<00:38, 12.08it/s]"
     ]
    },
    {
     "name": "stdout",
     "output_type": "stream",
     "text": [
      "epoch_number: 2 ------------test accuracy: 0.96484375\n"
     ]
    },
    {
     "name": "stderr",
     "output_type": "stream",
     "text": [
      "100%|████████████████████████████████████████████████████████████████████████████████| 468/468 [00:30<00:00, 15.26it/s]\n",
      "  4%|███▏                                                                               | 3/78 [00:00<00:03, 24.86it/s]"
     ]
    },
    {
     "name": "stdout",
     "output_type": "stream",
     "text": [
      "epoch_number: 3 ------------loss: 0.0938442731821325\n"
     ]
    },
    {
     "name": "stderr",
     "output_type": "stream",
     "text": [
      "100%|██████████████████████████████████████████████████████████████████████████████████| 78/78 [00:03<00:00, 25.33it/s]\n",
      "  0%|▎                                                                                 | 2/468 [00:00<00:27, 16.85it/s]"
     ]
    },
    {
     "name": "stdout",
     "output_type": "stream",
     "text": [
      "epoch_number: 3 ------------test accuracy: 0.9692508012820513\n"
     ]
    },
    {
     "name": "stderr",
     "output_type": "stream",
     "text": [
      "100%|████████████████████████████████████████████████████████████████████████████████| 468/468 [00:30<00:00, 15.20it/s]\n",
      "  4%|███▏                                                                               | 3/78 [00:00<00:03, 24.66it/s]"
     ]
    },
    {
     "name": "stdout",
     "output_type": "stream",
     "text": [
      "epoch_number: 4 ------------loss: 0.07889131218627818\n"
     ]
    },
    {
     "name": "stderr",
     "output_type": "stream",
     "text": [
      "100%|██████████████████████████████████████████████████████████████████████████████████| 78/78 [00:02<00:00, 26.79it/s]\n",
      "  0%|▎                                                                                 | 2/468 [00:00<00:29, 15.92it/s]"
     ]
    },
    {
     "name": "stdout",
     "output_type": "stream",
     "text": [
      "epoch_number: 4 ------------test accuracy: 0.9705528846153846\n"
     ]
    },
    {
     "name": "stderr",
     "output_type": "stream",
     "text": [
      "100%|████████████████████████████████████████████████████████████████████████████████| 468/468 [00:31<00:00, 14.74it/s]\n",
      "  4%|███▏                                                                               | 3/78 [00:00<00:02, 26.62it/s]"
     ]
    },
    {
     "name": "stdout",
     "output_type": "stream",
     "text": [
      "epoch_number: 5 ------------loss: 0.05893462146167242\n"
     ]
    },
    {
     "name": "stderr",
     "output_type": "stream",
     "text": [
      "100%|██████████████████████████████████████████████████████████████████████████████████| 78/78 [00:02<00:00, 27.29it/s]\n",
      "  0%|▎                                                                                 | 2/468 [00:00<00:29, 15.54it/s]"
     ]
    },
    {
     "name": "stdout",
     "output_type": "stream",
     "text": [
      "epoch_number: 5 ------------test accuracy: 0.9760616987179487\n"
     ]
    },
    {
     "name": "stderr",
     "output_type": "stream",
     "text": [
      "100%|████████████████████████████████████████████████████████████████████████████████| 468/468 [00:32<00:00, 14.57it/s]\n",
      "  4%|███▏                                                                               | 3/78 [00:00<00:03, 23.87it/s]"
     ]
    },
    {
     "name": "stdout",
     "output_type": "stream",
     "text": [
      "epoch_number: 6 ------------loss: 0.05335643544278587\n"
     ]
    },
    {
     "name": "stderr",
     "output_type": "stream",
     "text": [
      "100%|██████████████████████████████████████████████████████████████████████████████████| 78/78 [00:02<00:00, 29.37it/s]\n",
      "  0%|▎                                                                                 | 2/468 [00:00<00:28, 16.44it/s]"
     ]
    },
    {
     "name": "stdout",
     "output_type": "stream",
     "text": [
      "epoch_number: 6 ------------test accuracy: 0.9777644230769231\n"
     ]
    },
    {
     "name": "stderr",
     "output_type": "stream",
     "text": [
      "100%|████████████████████████████████████████████████████████████████████████████████| 468/468 [00:36<00:00, 12.90it/s]\n",
      "  3%|██▏                                                                                | 2/78 [00:00<00:04, 17.75it/s]"
     ]
    },
    {
     "name": "stdout",
     "output_type": "stream",
     "text": [
      "epoch_number: 7 ------------loss: 0.06268776397146568\n"
     ]
    },
    {
     "name": "stderr",
     "output_type": "stream",
     "text": [
      "100%|██████████████████████████████████████████████████████████████████████████████████| 78/78 [00:05<00:00, 13.14it/s]\n",
      "  0%|▎                                                                                 | 2/468 [00:00<00:42, 10.84it/s]"
     ]
    },
    {
     "name": "stdout",
     "output_type": "stream",
     "text": [
      "epoch_number: 7 ------------test accuracy: 0.9764623397435898\n"
     ]
    },
    {
     "name": "stderr",
     "output_type": "stream",
     "text": [
      "100%|████████████████████████████████████████████████████████████████████████████████| 468/468 [00:35<00:00, 13.25it/s]\n",
      "  4%|███▏                                                                               | 3/78 [00:00<00:02, 26.61it/s]"
     ]
    },
    {
     "name": "stdout",
     "output_type": "stream",
     "text": [
      "epoch_number: 8 ------------loss: 0.04603005365076438\n"
     ]
    },
    {
     "name": "stderr",
     "output_type": "stream",
     "text": [
      "100%|██████████████████████████████████████████████████████████████████████████████████| 78/78 [00:02<00:00, 26.82it/s]\n",
      "  0%|▎                                                                                 | 2/468 [00:00<00:27, 16.71it/s]"
     ]
    },
    {
     "name": "stdout",
     "output_type": "stream",
     "text": [
      "epoch_number: 8 ------------test accuracy: 0.9791666666666666\n"
     ]
    },
    {
     "name": "stderr",
     "output_type": "stream",
     "text": [
      "100%|████████████████████████████████████████████████████████████████████████████████| 468/468 [00:31<00:00, 14.87it/s]\n",
      "  4%|███▏                                                                               | 3/78 [00:00<00:03, 23.32it/s]"
     ]
    },
    {
     "name": "stdout",
     "output_type": "stream",
     "text": [
      "epoch_number: 9 ------------loss: 0.03712699264227906\n"
     ]
    },
    {
     "name": "stderr",
     "output_type": "stream",
     "text": [
      "100%|██████████████████████████████████████████████████████████████████████████████████| 78/78 [00:03<00:00, 25.26it/s]\n"
     ]
    },
    {
     "name": "stdout",
     "output_type": "stream",
     "text": [
      "epoch_number: 9 ------------test accuracy: 0.9746594551282052\n"
     ]
    }
   ],
   "source": [
    "# train and evaluate\n",
    "for epoch in range(NUM_EPOCHS):\n",
    "    ave_loss = 0\n",
    "    for X_train, y_train in tqdm(train_loader):\n",
    "        # TODO:forward + backward + optimize\n",
    "       optimizer.zero_grad()                       \n",
    "       out = model(X_train)                        \n",
    "       loss = criterion(out, y_train)              \n",
    "       ave_loss = ave_loss * 0.9 + loss.item() * 0.1\n",
    "       loss.backward()                             \n",
    "       optimizer.step()                            \n",
    "    print(\"epoch_number:\",epoch,\"------------loss:\",ave_loss)\n",
    "    correct_cnt= 0\n",
    "    total_cnt = 0\n",
    "    for X_test, y_test in tqdm(test_loader):\n",
    "        out = model(X_test)                     \n",
    "        loss = criterion(out, y_test)       \n",
    "        _, pred_label = torch.max(out.data, 1)   \n",
    "        total_cnt += X_test.data.size()[0]\n",
    "        correct_cnt += (pred_label == y_test).sum()\n",
    "    accuracy = float(correct_cnt)/total_cnt\n",
    "    print(\"epoch_number:\",epoch,\"------------test accuracy:\",accuracy)\n",
    "   \n",
    "        \n",
    "        \n",
    "        \n",
    "        \n",
    "    # evaluate\n",
    "    # TODO:calculate the accuracy using traning and testing dataset\n",
    "    \n",
    "    \n",
    "    \n",
    "    \n"
   ]
  },
  {
   "cell_type": "markdown",
   "metadata": {},
   "source": [
    "#### Q5:\n",
    "Please print the training and testing accuracy."
   ]
  },
  {
   "cell_type": "code",
   "execution_count": 8,
   "metadata": {},
   "outputs": [
    {
     "name": "stderr",
     "output_type": "stream",
     "text": [
      "100%|████████████████████████████████████████████████████████████████████████████████| 468/468 [00:16<00:00, 28.69it/s]\n",
      "  4%|███▏                                                                               | 3/78 [00:00<00:02, 28.38it/s]"
     ]
    },
    {
     "name": "stdout",
     "output_type": "stream",
     "text": [
      "0.9849425747863247\n"
     ]
    },
    {
     "name": "stderr",
     "output_type": "stream",
     "text": [
      "100%|██████████████████████████████████████████████████████████████████████████████████| 78/78 [00:02<00:00, 27.08it/s]"
     ]
    },
    {
     "name": "stdout",
     "output_type": "stream",
     "text": [
      "0.984375\n"
     ]
    },
    {
     "name": "stderr",
     "output_type": "stream",
     "text": [
      "\n"
     ]
    }
   ],
   "source": [
    "correct_cnt1= 0\n",
    "total_cnt1 = 0\n",
    "for X_train, y_train in tqdm(train_loader):\n",
    "        out = model(X_train)\n",
    "        loss = criterion(out, y_train)\n",
    "        _, pred_label = torch.max(out.data, 1)\n",
    "        total_cnt1 += X_train.data.size()[0]\n",
    "        correct_cnt1 += (pred_label == y_train).sum()\n",
    "train_accuracy = float(correct_cnt1)/total_cnt1\n",
    "print(train_accuracy)\n",
    "correct_cnt2= 0\n",
    "total_cnt2 = 0\n",
    "for X_test, y_test in tqdm(test_loader):\n",
    "        out = model(X_train)\n",
    "        loss = criterion(out, y_train)\n",
    "        _, pred_label = torch.max(out.data, 1)\n",
    "        total_cnt2 += X_train.data.size()[0]\n",
    "        correct_cnt2 += (pred_label == y_train).sum()\n",
    "test_accuracy = float(correct_cnt2)/total_cnt2\n",
    "print(test_accuracy)\n"
   ]
  },
  {
   "cell_type": "code",
   "execution_count": null,
   "metadata": {},
   "outputs": [],
   "source": []
  }
 ],
 "metadata": {
  "kernelspec": {
   "display_name": "Python 3",
   "language": "python",
   "name": "python3"
  },
  "language_info": {
   "codemirror_mode": {
    "name": "ipython",
    "version": 3
   },
   "file_extension": ".py",
   "mimetype": "text/x-python",
   "name": "python",
   "nbconvert_exporter": "python",
   "pygments_lexer": "ipython3",
   "version": "3.6.5"
  }
 },
 "nbformat": 4,
 "nbformat_minor": 2
}
